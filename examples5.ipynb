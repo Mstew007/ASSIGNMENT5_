{
  "nbformat": 4,
  "nbformat_minor": 0,
  "metadata": {
    "colab": {
      "provenance": [],
      "authorship_tag": "ABX9TyOXzaTvkBvxYhhKPd9NFHVg",
      "include_colab_link": true
    },
    "kernelspec": {
      "name": "python3",
      "display_name": "Python 3"
    },
    "language_info": {
      "name": "python"
    }
  },
  "cells": [
    {
      "cell_type": "markdown",
      "metadata": {
        "id": "view-in-github",
        "colab_type": "text"
      },
      "source": [
        "<a href=\"https://colab.research.google.com/github/Mstew007/ASSIGNMENT5_/blob/main/examples5.ipynb\" target=\"_parent\"><img src=\"https://colab.research.google.com/assets/colab-badge.svg\" alt=\"Open In Colab\"/></a>"
      ]
    },
    {
      "cell_type": "code",
      "execution_count": 19,
      "metadata": {
        "colab": {
          "base_uri": "https://localhost:8080/"
        },
        "id": "pHnehqA3xoTV",
        "outputId": "572c4e7b-fd15-4270-af7f-a30bc1aaf183"
      },
      "outputs": [
        {
          "output_type": "stream",
          "name": "stdout",
          "text": [
            "Factorials:\n",
            "120\n",
            "3628800\n",
            "2432902008176640000\n",
            "265252859812191058636308480000000\n",
            "\n",
            "Special Factorials:\n",
            "30\n",
            "907200\n",
            "46786577080320000\n",
            "231864387947719456849920000000\n"
          ]
        }
      ],
      "source": [
        "def factorial(n):\n",
        "    if not isinstance(n, int) or n < 0:\n",
        "        return \"Positive Integers Only.\"\n",
        "    result = [1]\n",
        "    for i in range(2, n + 1):\n",
        "        carry = 0\n",
        "        for j in range(len(result)):\n",
        "            product = result[j] * i + carry\n",
        "            result[j] = product % 10\n",
        "            carry = product // 10\n",
        "        while carry > 0:\n",
        "            result.append(carry % 10)\n",
        "            carry //= 10\n",
        "    factorial_result = int(''.join(map(str, result[::-1])))\n",
        "    return factorial_result\n",
        "print(\"Factorials:\")\n",
        "print(factorial(5))\n",
        "print(factorial(10))\n",
        "print(factorial(20))\n",
        "print(factorial(30))\n",
        "\n",
        "def special_factorial(n):\n",
        "    if not isinstance(n, int) or n < 0:\n",
        "        return \"Positive Integers Only.\"\n",
        "    result = [1]\n",
        "    for i in range(2, n + 1):\n",
        "        if i not in {4, 13, 22}:\n",
        "            carry = 0\n",
        "            for j in range(len(result)):\n",
        "                product = result[j] * i + carry\n",
        "                result[j] = product % 10\n",
        "                carry = product // 10\n",
        "            while carry > 0:\n",
        "                result.append(carry % 10)\n",
        "                carry //= 10\n",
        "    factorial_result = int(''.join(map(str, result[::-1])))\n",
        "    return factorial_result\n",
        "print(\"\\nSpecial Factorials:\")\n",
        "print(special_factorial(5))\n",
        "print(special_factorial(10))\n",
        "print(special_factorial(20))\n",
        "print(special_factorial(30))"
      ]
    }
  ]
}